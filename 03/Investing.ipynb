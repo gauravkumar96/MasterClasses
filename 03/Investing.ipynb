{
  "nbformat": 4,
  "nbformat_minor": 0,
  "metadata": {
    "colab": {
      "provenance": []
    },
    "kernelspec": {
      "name": "python3",
      "display_name": "Python 3"
    },
    "language_info": {
      "name": "python"
    }
  },
  "cells": [
    {
      "cell_type": "code",
      "execution_count": 1,
      "metadata": {
        "colab": {
          "base_uri": "https://localhost:8080/"
        },
        "id": "gWBZIDBTFod1",
        "outputId": "0ad6d4ff-e6d8-4926-a264-46271d272961"
      },
      "outputs": [
        {
          "output_type": "stream",
          "name": "stdout",
          "text": [
            "Collecting investpy\n",
            "  Downloading investpy-1.0.8.tar.gz (4.4 MB)\n",
            "\u001b[2K     \u001b[90m━━━━━━━━━━━━━━━━━━━━━━━━━━━━━━━━━━━━━━━━\u001b[0m \u001b[32m4.4/4.4 MB\u001b[0m \u001b[31m25.8 MB/s\u001b[0m eta \u001b[36m0:00:00\u001b[0m\n",
            "\u001b[?25h  Preparing metadata (setup.py) ... \u001b[?25l\u001b[?25hdone\n",
            "Collecting Unidecode>=1.1.1 (from investpy)\n",
            "  Downloading Unidecode-1.3.6-py3-none-any.whl (235 kB)\n",
            "\u001b[2K     \u001b[90m━━━━━━━━━━━━━━━━━━━━━━━━━━━━━━━━━━━━━━\u001b[0m \u001b[32m235.9/235.9 kB\u001b[0m \u001b[31m33.7 MB/s\u001b[0m eta \u001b[36m0:00:00\u001b[0m\n",
            "\u001b[?25hRequirement already satisfied: setuptools>=41.2.0 in /usr/local/lib/python3.10/dist-packages (from investpy) (67.7.2)\n",
            "Requirement already satisfied: numpy>=1.17.2 in /usr/local/lib/python3.10/dist-packages (from investpy) (1.22.4)\n",
            "Requirement already satisfied: pandas>=0.25.1 in /usr/local/lib/python3.10/dist-packages (from investpy) (1.5.3)\n",
            "Requirement already satisfied: lxml>=4.4.1 in /usr/local/lib/python3.10/dist-packages (from investpy) (4.9.2)\n",
            "Requirement already satisfied: requests>=2.22.0 in /usr/local/lib/python3.10/dist-packages (from investpy) (2.27.1)\n",
            "Requirement already satisfied: pytz>=2019.3 in /usr/local/lib/python3.10/dist-packages (from investpy) (2022.7.1)\n",
            "Requirement already satisfied: python-dateutil>=2.8.1 in /usr/local/lib/python3.10/dist-packages (from pandas>=0.25.1->investpy) (2.8.2)\n",
            "Requirement already satisfied: urllib3<1.27,>=1.21.1 in /usr/local/lib/python3.10/dist-packages (from requests>=2.22.0->investpy) (1.26.16)\n",
            "Requirement already satisfied: certifi>=2017.4.17 in /usr/local/lib/python3.10/dist-packages (from requests>=2.22.0->investpy) (2023.5.7)\n",
            "Requirement already satisfied: charset-normalizer~=2.0.0 in /usr/local/lib/python3.10/dist-packages (from requests>=2.22.0->investpy) (2.0.12)\n",
            "Requirement already satisfied: idna<4,>=2.5 in /usr/local/lib/python3.10/dist-packages (from requests>=2.22.0->investpy) (3.4)\n",
            "Requirement already satisfied: six>=1.5 in /usr/local/lib/python3.10/dist-packages (from python-dateutil>=2.8.1->pandas>=0.25.1->investpy) (1.16.0)\n",
            "Building wheels for collected packages: investpy\n",
            "  Building wheel for investpy (setup.py) ... \u001b[?25l\u001b[?25hdone\n",
            "  Created wheel for investpy: filename=investpy-1.0.8-py3-none-any.whl size=4481577 sha256=2283073cfcc550366ce81b9f79f01a44c0b7919450cbe6c5b25173e72d41c2df\n",
            "  Stored in directory: /root/.cache/pip/wheels/db/f4/ae/980b93b0257620bc8e4afc98a854a7a746a33eb8335fd07906\n",
            "Successfully built investpy\n",
            "Installing collected packages: Unidecode, investpy\n",
            "Successfully installed Unidecode-1.3.6 investpy-1.0.8\n"
          ]
        }
      ],
      "source": [
        "pip install investpy"
      ]
    },
    {
      "cell_type": "code",
      "source": [
        "import investpy\n",
        "\n",
        "df = investpy.get_stock_historical_data(stock='AAPL',\n",
        "                                        country='United States',\n",
        "                                        from_date='01/01/2010',\n",
        "                                        to_date='01/01/2020')\n",
        "print(df.head())"
      ],
      "metadata": {
        "colab": {
          "base_uri": "https://localhost:8080/",
          "height": 357
        },
        "id": "pV_66JSkFtzz",
        "outputId": "a38120d5-d794-4df1-d0f6-36cfce83ba78"
      },
      "execution_count": 17,
      "outputs": [
        {
          "output_type": "error",
          "ename": "ConnectionError",
          "evalue": "ignored",
          "traceback": [
            "\u001b[0;31m---------------------------------------------------------------------------\u001b[0m",
            "\u001b[0;31mConnectionError\u001b[0m                           Traceback (most recent call last)",
            "\u001b[0;32m<ipython-input-17-f6f4235b7e47>\u001b[0m in \u001b[0;36m<cell line: 3>\u001b[0;34m()\u001b[0m\n\u001b[1;32m      1\u001b[0m \u001b[0;32mimport\u001b[0m \u001b[0minvestpy\u001b[0m\u001b[0;34m\u001b[0m\u001b[0;34m\u001b[0m\u001b[0m\n\u001b[1;32m      2\u001b[0m \u001b[0;34m\u001b[0m\u001b[0m\n\u001b[0;32m----> 3\u001b[0;31m df = investpy.get_stock_historical_data(stock='AAPL',\n\u001b[0m\u001b[1;32m      4\u001b[0m                                         \u001b[0mcountry\u001b[0m\u001b[0;34m=\u001b[0m\u001b[0;34m'United States'\u001b[0m\u001b[0;34m,\u001b[0m\u001b[0;34m\u001b[0m\u001b[0;34m\u001b[0m\u001b[0m\n\u001b[1;32m      5\u001b[0m                                         \u001b[0mfrom_date\u001b[0m\u001b[0;34m=\u001b[0m\u001b[0;34m'01/01/2010'\u001b[0m\u001b[0;34m,\u001b[0m\u001b[0;34m\u001b[0m\u001b[0;34m\u001b[0m\u001b[0m\n",
            "\u001b[0;32m/usr/local/lib/python3.10/dist-packages/investpy/stocks.py\u001b[0m in \u001b[0;36mget_stock_historical_data\u001b[0;34m(stock, country, from_date, to_date, as_json, order, interval)\u001b[0m\n\u001b[1;32m    662\u001b[0m \u001b[0;34m\u001b[0m\u001b[0m\n\u001b[1;32m    663\u001b[0m         \u001b[0;32mif\u001b[0m \u001b[0mreq\u001b[0m\u001b[0;34m.\u001b[0m\u001b[0mstatus_code\u001b[0m \u001b[0;34m!=\u001b[0m \u001b[0;36m200\u001b[0m\u001b[0;34m:\u001b[0m\u001b[0;34m\u001b[0m\u001b[0;34m\u001b[0m\u001b[0m\n\u001b[0;32m--> 664\u001b[0;31m             raise ConnectionError(\n\u001b[0m\u001b[1;32m    665\u001b[0m                 \u001b[0;34m\"ERR#0015: error \"\u001b[0m \u001b[0;34m+\u001b[0m \u001b[0mstr\u001b[0m\u001b[0;34m(\u001b[0m\u001b[0mreq\u001b[0m\u001b[0;34m.\u001b[0m\u001b[0mstatus_code\u001b[0m\u001b[0;34m)\u001b[0m \u001b[0;34m+\u001b[0m \u001b[0;34m\", try again later.\"\u001b[0m\u001b[0;34m\u001b[0m\u001b[0;34m\u001b[0m\u001b[0m\n\u001b[1;32m    666\u001b[0m             )\n",
            "\u001b[0;31mConnectionError\u001b[0m: ERR#0015: error 403, try again later."
          ]
        }
      ]
    },
    {
      "cell_type": "code",
      "source": [
        "import investpy\n",
        "\n",
        "search_result = investpy.search_quotes(text='apple', products=['stocks'],\n",
        "                                       countries=['united states'], n_results=1)\n",
        "print(search_result)"
      ],
      "metadata": {
        "colab": {
          "base_uri": "https://localhost:8080/",
          "height": 357
        },
        "id": "Hswj2RRZFyf0",
        "outputId": "850007a2-97c9-47ab-8883-597c81ddee97"
      },
      "execution_count": 3,
      "outputs": [
        {
          "output_type": "error",
          "ename": "ConnectionError",
          "evalue": "ignored",
          "traceback": [
            "\u001b[0;31m---------------------------------------------------------------------------\u001b[0m",
            "\u001b[0;31mConnectionError\u001b[0m                           Traceback (most recent call last)",
            "\u001b[0;32m<ipython-input-3-70c67c5883ab>\u001b[0m in \u001b[0;36m<cell line: 3>\u001b[0;34m()\u001b[0m\n\u001b[1;32m      1\u001b[0m \u001b[0;32mimport\u001b[0m \u001b[0minvestpy\u001b[0m\u001b[0;34m\u001b[0m\u001b[0;34m\u001b[0m\u001b[0m\n\u001b[1;32m      2\u001b[0m \u001b[0;34m\u001b[0m\u001b[0m\n\u001b[0;32m----> 3\u001b[0;31m search_result = investpy.search_quotes(text='apple', products=['stocks'],\n\u001b[0m\u001b[1;32m      4\u001b[0m                                        countries=['united states'], n_results=1)\n\u001b[1;32m      5\u001b[0m \u001b[0mprint\u001b[0m\u001b[0;34m(\u001b[0m\u001b[0msearch_result\u001b[0m\u001b[0;34m)\u001b[0m\u001b[0;34m\u001b[0m\u001b[0;34m\u001b[0m\u001b[0m\n",
            "\u001b[0;32m/usr/local/lib/python3.10/dist-packages/investpy/search.py\u001b[0m in \u001b[0;36msearch_quotes\u001b[0;34m(text, products, countries, n_results)\u001b[0m\n\u001b[1;32m    158\u001b[0m \u001b[0;34m\u001b[0m\u001b[0m\n\u001b[1;32m    159\u001b[0m         \u001b[0;32mif\u001b[0m \u001b[0mreq\u001b[0m\u001b[0;34m.\u001b[0m\u001b[0mstatus_code\u001b[0m \u001b[0;34m!=\u001b[0m \u001b[0;36m200\u001b[0m\u001b[0;34m:\u001b[0m\u001b[0;34m\u001b[0m\u001b[0;34m\u001b[0m\u001b[0m\n\u001b[0;32m--> 160\u001b[0;31m             raise ConnectionError(\n\u001b[0m\u001b[1;32m    161\u001b[0m                 \u001b[0;34mf\"ERR#0015: error {req.status_code}, try again later.\"\u001b[0m\u001b[0;34m\u001b[0m\u001b[0;34m\u001b[0m\u001b[0m\n\u001b[1;32m    162\u001b[0m             )\n",
            "\u001b[0;31mConnectionError\u001b[0m: ERR#0015: error 403, try again later."
          ]
        }
      ]
    },
    {
      "cell_type": "code",
      "source": [
        "import ccxt\n",
        "ccxt.exchanges"
      ],
      "metadata": {
        "colab": {
          "base_uri": "https://localhost:8080/"
        },
        "id": "e2p7JYJvKkjg",
        "outputId": "e08b3edc-0a0f-4224-9027-f2d2704cf7ba"
      },
      "execution_count": 14,
      "outputs": [
        {
          "output_type": "execute_result",
          "data": {
            "text/plain": [
              "['ace',\n",
              " 'alpaca',\n",
              " 'ascendex',\n",
              " 'bequant',\n",
              " 'bigone',\n",
              " 'binance',\n",
              " 'binancecoinm',\n",
              " 'binanceus',\n",
              " 'binanceusdm',\n",
              " 'bit2c',\n",
              " 'bitbank',\n",
              " 'bitbay',\n",
              " 'bitbns',\n",
              " 'bitcoincom',\n",
              " 'bitfinex',\n",
              " 'bitfinex2',\n",
              " 'bitflyer',\n",
              " 'bitforex',\n",
              " 'bitget',\n",
              " 'bithumb',\n",
              " 'bitmart',\n",
              " 'bitmex',\n",
              " 'bitopro',\n",
              " 'bitpanda',\n",
              " 'bitrue',\n",
              " 'bitso',\n",
              " 'bitstamp',\n",
              " 'bitstamp1',\n",
              " 'bittrex',\n",
              " 'bitvavo',\n",
              " 'bkex',\n",
              " 'bl3p',\n",
              " 'blockchaincom',\n",
              " 'btcalpha',\n",
              " 'btcbox',\n",
              " 'btcmarkets',\n",
              " 'btctradeua',\n",
              " 'btcturk',\n",
              " 'bybit',\n",
              " 'cex',\n",
              " 'coinbase',\n",
              " 'coinbaseprime',\n",
              " 'coinbasepro',\n",
              " 'coincheck',\n",
              " 'coinex',\n",
              " 'coinfalcon',\n",
              " 'coinmate',\n",
              " 'coinone',\n",
              " 'coinsph',\n",
              " 'coinspot',\n",
              " 'cryptocom',\n",
              " 'currencycom',\n",
              " 'delta',\n",
              " 'deribit',\n",
              " 'digifinex',\n",
              " 'exmo',\n",
              " 'fmfwio',\n",
              " 'gate',\n",
              " 'gateio',\n",
              " 'gemini',\n",
              " 'hitbtc',\n",
              " 'hitbtc3',\n",
              " 'hollaex',\n",
              " 'huobi',\n",
              " 'huobijp',\n",
              " 'huobipro',\n",
              " 'idex',\n",
              " 'independentreserve',\n",
              " 'indodax',\n",
              " 'kraken',\n",
              " 'krakenfutures',\n",
              " 'kucoin',\n",
              " 'kucoinfutures',\n",
              " 'kuna',\n",
              " 'latoken',\n",
              " 'lbank',\n",
              " 'lbank2',\n",
              " 'luno',\n",
              " 'lykke',\n",
              " 'mercado',\n",
              " 'mexc',\n",
              " 'mexc3',\n",
              " 'ndax',\n",
              " 'novadax',\n",
              " 'oceanex',\n",
              " 'okcoin',\n",
              " 'okex',\n",
              " 'okex5',\n",
              " 'okx',\n",
              " 'paymium',\n",
              " 'phemex',\n",
              " 'poloniex',\n",
              " 'poloniexfutures',\n",
              " 'probit',\n",
              " 'tidex',\n",
              " 'timex',\n",
              " 'tokocrypto',\n",
              " 'upbit',\n",
              " 'wavesexchange',\n",
              " 'wazirx',\n",
              " 'whitebit',\n",
              " 'woo',\n",
              " 'yobit',\n",
              " 'zaif',\n",
              " 'zonda']"
            ]
          },
          "metadata": {},
          "execution_count": 14
        }
      ]
    },
    {
      "cell_type": "code",
      "source": [],
      "metadata": {
        "id": "RxBdw-1WKZGG"
      },
      "execution_count": null,
      "outputs": []
    }
  ]
}